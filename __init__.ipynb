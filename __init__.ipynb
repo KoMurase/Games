{
  "nbformat": 4,
  "nbformat_minor": 0,
  "metadata": {
    "colab": {
      "name": "__init__.ipynb",
      "version": "0.3.2",
      "provenance": [],
      "include_colab_link": true
    },
    "kernelspec": {
      "name": "python3",
      "display_name": "Python 3"
    }
  },
  "cells": [
    {
      "cell_type": "markdown",
      "metadata": {
        "id": "view-in-github",
        "colab_type": "text"
      },
      "source": [
        "<a href=\"https://colab.research.google.com/github/KoMurase/Games/blob/master/__init__.ipynb\" target=\"_parent\"><img src=\"https://colab.research.google.com/assets/colab-badge.svg\" alt=\"Open In Colab\"/></a>"
      ]
    },
    {
      "cell_type": "code",
      "metadata": {
        "id": "DUnI6JdhWuUd",
        "colab_type": "code",
        "colab": {}
      },
      "source": [
        "from flask import Flask,request,jsonify\n",
        "from PIL import Image"
      ],
      "execution_count": 0,
      "outputs": []
    },
    {
      "cell_type": "code",
      "metadata": {
        "id": "uRLNOoDxkped",
        "colab_type": "code",
        "colab": {}
      },
      "source": [
        "def create_app(classifier):\n",
        "  #Flaskアプリケーションの生成\n",
        "  app = Flask(__name__)\n",
        "  \n",
        "  #POSTに対応する関数を定義\n",
        "  @app.route('/',methods=['POST'])\n",
        "  def predict():\n",
        "    #受け取ったファイルのハンドラーを取得\n",
        "    img_file = request.files['img']\n",
        "    \n",
        "    #からかどうかのチェック\n",
        "    if img_file.filename =='':\n",
        "      return 'Bad Request', 400\n",
        "    \n",
        "    #PILを利用して画像ファイルを読み込む\n",
        "    img = Image.open(img_file)\n",
        "\n",
        "    #識別モデルを利用してタコスかブリトーかを予測\n",
        "    result = classifier.predict(img)\n",
        "    \n",
        "    #結果をJSON形式で返す\n",
        "    \n",
        "    return jsonify({\n",
        "        'result' : result\n",
        "    })\n",
        "  return app"
      ],
      "execution_count": 0,
      "outputs": []
    },
    {
      "cell_type": "code",
      "metadata": {
        "id": "HOhBQxA9pYjW",
        "colab_type": "code",
        "colab": {}
      },
      "source": [
        ""
      ],
      "execution_count": 0,
      "outputs": []
    }
  ]
}